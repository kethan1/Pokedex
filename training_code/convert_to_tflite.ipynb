{
 "cells": [
  {
   "cell_type": "code",
   "execution_count": 8,
   "id": "58e6cadd",
   "metadata": {},
   "outputs": [],
   "source": [
    "import torch\n",
    "import torch.nn as nn"
   ]
  },
  {
   "cell_type": "code",
   "execution_count": 9,
   "id": "443be850",
   "metadata": {},
   "outputs": [],
   "source": [
    "class SimpleCNN(nn.Module):\n",
    "  def __init__(self):\n",
    "    super(SimpleCNN, self).__init__()\n",
    "    self.conv1 = nn.Conv2d(in_channels=3, out_channels=16, kernel_size=3, padding=1)\n",
    "    self.batchNorm1 = nn.BatchNorm2d(16)\n",
    "    self.pool1 = nn.MaxPool2d(kernel_size=2, stride=2)\n",
    "\n",
    "    self.conv2 = nn.Conv2d(in_channels=16, out_channels=32, kernel_size=3, padding=1)\n",
    "    self.batchNorm2 = nn.BatchNorm2d(32)\n",
    "    self.pool2 = nn.MaxPool2d(kernel_size=2, stride=2)\n",
    "\n",
    "    self.conv3 = nn.Conv2d(in_channels=32, out_channels=64, kernel_size=3, padding=1)\n",
    "    self.batchNorm3 = nn.BatchNorm2d(64)\n",
    "    self.pool3 = nn.MaxPool2d(kernel_size=2, stride=2)\n",
    "\n",
    "    self.conv4 = nn.Conv2d(in_channels=64, out_channels=128, kernel_size=3, padding=1)\n",
    "    self.batchNorm4 = nn.BatchNorm2d(128)\n",
    "    self.pool4 = nn.MaxPool2d(kernel_size=2, stride=2)\n",
    "\n",
    "    self.fc1 = nn.Linear(18432, 256)\n",
    "    self.dropout = nn.Dropout(0.5)\n",
    "    self.fc2 = nn.Linear(256, 8)\n",
    "  def forward(self, x):\n",
    "    x = torch.relu(self.batchNorm1(self.conv1(x)))\n",
    "\n",
    "    x = self.pool1(x)\n",
    "\n",
    "    x = torch.relu(self.batchNorm2(self.conv2(x)))\n",
    "    x = self.pool2(x)\n",
    "\n",
    "    x = torch.relu(self.batchNorm3(self.conv3(x)))\n",
    "    x = self.pool3(x)\n",
    "\n",
    "    x = torch.relu(self.batchNorm4(self.conv4(x)))\n",
    "    x = self.pool4(x)\n",
    "\n",
    "\n",
    "    x = x.view(-1, 18432)\n",
    "\n",
    "    x = torch.relu(self.fc1(x))\n",
    "    x = self.dropout(x)\n",
    "    x = self.fc2(x)\n",
    "    return x"
   ]
  },
  {
   "cell_type": "code",
   "execution_count": 10,
   "id": "0c2e0797",
   "metadata": {},
   "outputs": [
    {
     "data": {
      "text/plain": [
       "<All keys matched successfully>"
      ]
     },
     "execution_count": 10,
     "metadata": {},
     "output_type": "execute_result"
    }
   ],
   "source": [
    "state_dict = torch.load(\"poke_model_v2_10epoch.pth\", map_location=torch.device(\"cpu\"))\n",
    "model = SimpleCNN()\n",
    "model.load_state_dict(state_dict)"
   ]
  },
  {
   "cell_type": "code",
   "execution_count": 11,
   "id": "7b7e3b2b",
   "metadata": {},
   "outputs": [],
   "source": [
    "model.eval()\n",
    "sample_inputs = (torch.randn(1, 3, 200, 200),)\n",
    "torch_output = model(*sample_inputs)"
   ]
  },
  {
   "cell_type": "code",
   "execution_count": null,
   "id": "a580e4e1",
   "metadata": {},
   "outputs": [
    {
     "ename": "ModuleNotFoundError",
     "evalue": "No module named 'torch_xla'",
     "output_type": "error",
     "traceback": [
      "\u001b[31m---------------------------------------------------------------------------\u001b[39m",
      "\u001b[31mModuleNotFoundError\u001b[39m                       Traceback (most recent call last)",
      "\u001b[36mCell\u001b[39m\u001b[36m \u001b[39m\u001b[32mIn[17]\u001b[39m\u001b[32m, line 9\u001b[39m\n\u001b[32m      6\u001b[39m   \u001b[38;5;28;01mreturn\u001b[39;00m npwarn_decorator\n\u001b[32m      7\u001b[39m numpy._no_nep50_warning = \u001b[38;5;28mgetattr\u001b[39m(numpy, \u001b[33m'\u001b[39m\u001b[33m_no_nep50_warning\u001b[39m\u001b[33m'\u001b[39m, dummy_npwarn_decorator_factory)\n\u001b[32m----> \u001b[39m\u001b[32m9\u001b[39m \u001b[38;5;28;01mimport\u001b[39;00m\u001b[38;5;250m \u001b[39m\u001b[34;01mai_edge_torch\u001b[39;00m\n\u001b[32m     11\u001b[39m edge_model = ai_edge_torch.convert(model.eval(), sample_inputs)\n",
      "\u001b[36mFile \u001b[39m\u001b[32mc:\\Users\\ketha\\OneDrive\\Documents\\Coding\\COSMOS\\cosmos-2025-cluster-11-brain-inspired-ml-final-project\\venv\\Lib\\site-packages\\ai_edge_torch\\__init__.py:16\u001b[39m\n\u001b[32m      1\u001b[39m \u001b[38;5;66;03m# Copyright 2024 The AI Edge Torch Authors.\u001b[39;00m\n\u001b[32m      2\u001b[39m \u001b[38;5;66;03m#\u001b[39;00m\n\u001b[32m      3\u001b[39m \u001b[38;5;66;03m# Licensed under the Apache License, Version 2.0 (the \"License\");\u001b[39;00m\n\u001b[32m   (...)\u001b[39m\u001b[32m     13\u001b[39m \u001b[38;5;66;03m# limitations under the License.\u001b[39;00m\n\u001b[32m     14\u001b[39m \u001b[38;5;66;03m# ==============================================================================\u001b[39;00m\n\u001b[32m---> \u001b[39m\u001b[32m16\u001b[39m \u001b[38;5;28;01mfrom\u001b[39;00m\u001b[38;5;250m \u001b[39m\u001b[34;01m.\u001b[39;00m\u001b[34;01mconvert\u001b[39;00m\u001b[34;01m.\u001b[39;00m\u001b[34;01mconverter\u001b[39;00m\u001b[38;5;250m \u001b[39m\u001b[38;5;28;01mimport\u001b[39;00m convert\n\u001b[32m     17\u001b[39m \u001b[38;5;28;01mfrom\u001b[39;00m\u001b[38;5;250m \u001b[39m\u001b[34;01m.\u001b[39;00m\u001b[34;01mconvert\u001b[39;00m\u001b[34;01m.\u001b[39;00m\u001b[34;01mconverter\u001b[39;00m\u001b[38;5;250m \u001b[39m\u001b[38;5;28;01mimport\u001b[39;00m signature\n\u001b[32m     18\u001b[39m \u001b[38;5;28;01mfrom\u001b[39;00m\u001b[38;5;250m \u001b[39m\u001b[34;01m.\u001b[39;00m\u001b[34;01mconvert\u001b[39;00m\u001b[34;01m.\u001b[39;00m\u001b[34;01mto_channel_last_io\u001b[39;00m\u001b[38;5;250m \u001b[39m\u001b[38;5;28;01mimport\u001b[39;00m to_channel_last_io\n",
      "\u001b[36mFile \u001b[39m\u001b[32mc:\\Users\\ketha\\OneDrive\\Documents\\Coding\\COSMOS\\cosmos-2025-cluster-11-brain-inspired-ml-final-project\\venv\\Lib\\site-packages\\ai_edge_torch\\convert\\converter.py:22\u001b[39m\n\u001b[32m     18\u001b[39m \u001b[38;5;28;01mfrom\u001b[39;00m\u001b[38;5;250m \u001b[39m\u001b[34;01mtyping\u001b[39;00m\u001b[38;5;250m \u001b[39m\u001b[38;5;28;01mimport\u001b[39;00m Any, Dict, Optional, Tuple, Union\n\u001b[32m     20\u001b[39m \u001b[38;5;28;01mimport\u001b[39;00m\u001b[38;5;250m \u001b[39m\u001b[34;01mtorch\u001b[39;00m\n\u001b[32m---> \u001b[39m\u001b[32m22\u001b[39m \u001b[38;5;28;01mfrom\u001b[39;00m\u001b[38;5;250m \u001b[39m\u001b[34;01mai_edge_torch\u001b[39;00m\u001b[38;5;250m \u001b[39m\u001b[38;5;28;01mimport\u001b[39;00m model\n\u001b[32m     23\u001b[39m \u001b[38;5;28;01mfrom\u001b[39;00m\u001b[38;5;250m \u001b[39m\u001b[34;01mai_edge_torch\u001b[39;00m\u001b[34;01m.\u001b[39;00m\u001b[34;01mconvert\u001b[39;00m\u001b[38;5;250m \u001b[39m\u001b[38;5;28;01mimport\u001b[39;00m conversion\n\u001b[32m     24\u001b[39m \u001b[38;5;28;01mfrom\u001b[39;00m\u001b[38;5;250m \u001b[39m\u001b[34;01mai_edge_torch\u001b[39;00m\u001b[34;01m.\u001b[39;00m\u001b[34;01mconvert\u001b[39;00m\u001b[38;5;250m \u001b[39m\u001b[38;5;28;01mimport\u001b[39;00m conversion_utils \u001b[38;5;28;01mas\u001b[39;00m cutils\n",
      "\u001b[36mFile \u001b[39m\u001b[32mc:\\Users\\ketha\\OneDrive\\Documents\\Coding\\COSMOS\\cosmos-2025-cluster-11-brain-inspired-ml-final-project\\venv\\Lib\\site-packages\\ai_edge_torch\\model.py:28\u001b[39m\n\u001b[32m     25\u001b[39m \u001b[38;5;28;01mimport\u001b[39;00m\u001b[38;5;250m \u001b[39m\u001b[34;01mnumpy\u001b[39;00m\u001b[34;01m.\u001b[39;00m\u001b[34;01mtyping\u001b[39;00m\u001b[38;5;250m \u001b[39m\u001b[38;5;28;01mas\u001b[39;00m\u001b[38;5;250m \u001b[39m\u001b[34;01mnpt\u001b[39;00m\n\u001b[32m     26\u001b[39m \u001b[38;5;28;01mimport\u001b[39;00m\u001b[38;5;250m \u001b[39m\u001b[34;01mtensorflow\u001b[39;00m\u001b[38;5;250m \u001b[39m\u001b[38;5;28;01mas\u001b[39;00m\u001b[38;5;250m \u001b[39m\u001b[34;01mtf\u001b[39;00m\n\u001b[32m---> \u001b[39m\u001b[32m28\u001b[39m \u001b[38;5;28;01mfrom\u001b[39;00m\u001b[38;5;250m \u001b[39m\u001b[34;01mai_edge_torch\u001b[39;00m\u001b[34;01m.\u001b[39;00m\u001b[34;01mconvert\u001b[39;00m\u001b[38;5;250m \u001b[39m\u001b[38;5;28;01mimport\u001b[39;00m conversion_utils \u001b[38;5;28;01mas\u001b[39;00m cutils\n\u001b[32m     31\u001b[39m \u001b[38;5;28;01mclass\u001b[39;00m\u001b[38;5;250m \u001b[39m\u001b[34;01mModel\u001b[39;00m(abc.ABC):\n\u001b[32m     32\u001b[39m \u001b[38;5;250m  \u001b[39m\u001b[33;03m\"\"\"Represents and edge model.\"\"\"\u001b[39;00m\n",
      "\u001b[36mFile \u001b[39m\u001b[32mc:\\Users\\ketha\\OneDrive\\Documents\\Coding\\COSMOS\\cosmos-2025-cluster-11-brain-inspired-ml-final-project\\venv\\Lib\\site-packages\\ai_edge_torch\\convert\\conversion_utils.py:27\u001b[39m\n\u001b[32m     25\u001b[39m \u001b[38;5;28;01mimport\u001b[39;00m\u001b[38;5;250m \u001b[39m\u001b[34;01mtorch\u001b[39;00m\n\u001b[32m     26\u001b[39m \u001b[38;5;28;01mimport\u001b[39;00m\u001b[38;5;250m \u001b[39m\u001b[34;01mtorch\u001b[39;00m\u001b[34;01m.\u001b[39;00m\u001b[34;01mutils\u001b[39;00m\u001b[34;01m.\u001b[39;00m\u001b[34;01m_pytree\u001b[39;00m\u001b[38;5;250m \u001b[39m\u001b[38;5;28;01mas\u001b[39;00m\u001b[38;5;250m \u001b[39m\u001b[34;01mpytree\u001b[39;00m\n\u001b[32m---> \u001b[39m\u001b[32m27\u001b[39m \u001b[38;5;28;01mfrom\u001b[39;00m\u001b[38;5;250m \u001b[39m\u001b[34;01mtorch_xla\u001b[39;00m\u001b[38;5;250m \u001b[39m\u001b[38;5;28;01mimport\u001b[39;00m stablehlo\n\u001b[32m     29\u001b[39m \u001b[38;5;28;01mfrom\u001b[39;00m\u001b[38;5;250m \u001b[39m\u001b[34;01mai_edge_torch\u001b[39;00m\u001b[34;01m.\u001b[39;00m\u001b[34;01mgenerative\u001b[39;00m\u001b[34;01m.\u001b[39;00m\u001b[34;01mquantize\u001b[39;00m\u001b[34;01m.\u001b[39;00m\u001b[34;01mai_edge_quantizer_glue\u001b[39;00m\u001b[38;5;250m \u001b[39m\u001b[38;5;28;01mimport\u001b[39;00m translate_recipe  \u001b[38;5;66;03m# NOQA\u001b[39;00m\n\u001b[32m     30\u001b[39m \u001b[38;5;28;01mfrom\u001b[39;00m\u001b[38;5;250m \u001b[39m\u001b[34;01mai_edge_torch\u001b[39;00m\u001b[34;01m.\u001b[39;00m\u001b[34;01mquantize\u001b[39;00m\u001b[38;5;250m \u001b[39m\u001b[38;5;28;01mimport\u001b[39;00m quant_config \u001b[38;5;28;01mas\u001b[39;00m qcfg\n",
      "\u001b[31mModuleNotFoundError\u001b[39m: No module named 'torch_xla'"
     ]
    }
   ],
   "source": [
    "import numpy\n",
    "import ai_edge_torch\n",
    "\n",
    "edge_model = ai_edge_torch.convert(model.eval(), sample_inputs)"
   ]
  },
  {
   "cell_type": "code",
   "execution_count": null,
   "id": "09e284c5",
   "metadata": {},
   "outputs": [],
   "source": [
    "edge_output = edge_model(*sample_inputs)"
   ]
  },
  {
   "cell_type": "code",
   "execution_count": null,
   "id": "cdb1b608",
   "metadata": {},
   "outputs": [],
   "source": [
    "if (numpy.allclose(\n",
    "    torch_output.detach().numpy(),\n",
    "    edge_output,\n",
    "    atol=1e-5,\n",
    "    rtol=1e-5,\n",
    ")):\n",
    "    print(\"Inference result with Pytorch and TfLite was within tolerance\")\n",
    "else:\n",
    "    print(\"Something wrong with Pytorch --> TfLite\")"
   ]
  },
  {
   "cell_type": "code",
   "execution_count": null,
   "id": "06bd5f8c",
   "metadata": {},
   "outputs": [],
   "source": [
    "edge_model.export('model.tflite')"
   ]
  }
 ],
 "metadata": {
  "kernelspec": {
   "display_name": "venv",
   "language": "python",
   "name": "python3"
  },
  "language_info": {
   "codemirror_mode": {
    "name": "ipython",
    "version": 3
   },
   "file_extension": ".py",
   "mimetype": "text/x-python",
   "name": "python",
   "nbconvert_exporter": "python",
   "pygments_lexer": "ipython3",
   "version": "3.11.9"
  }
 },
 "nbformat": 4,
 "nbformat_minor": 5
}
